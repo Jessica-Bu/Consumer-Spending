{
 "cells": [
  {
   "cell_type": "code",
   "execution_count": null,
   "id": "d37a6e71-fb6a-421e-b037-03a0ff0bd66c",
   "metadata": {},
   "outputs": [],
   "source": [
    "import pandas as pd\n",
    "import numpy as np\n",
    "\n",
    "consumption = pd.read_csv(\"../../data/clean/consumption.csv\")\n",
    "income = pd.read_csv(\"../../data/clean/disposable_income.csv\")\n",
    "inflation = pd.read_csv(\"../../data/clean/inflation_hvpi.csv\")\n",
    "saving = pd.read_csv(\"../../data/clean/saving.csv\")"
   ]
  },
  {
   "cell_type": "code",
   "execution_count": null,
   "id": "98ed9115-6088-4bd3-b820-f254268ed525",
   "metadata": {},
   "outputs": [],
   "source": [
    "# Set same Index for all data files\n",
    "consumption_final = consumption.set_index(['country', 'year'])\n",
    "income_final = income.set_index(['country', 'year'])\n",
    "inflation_final = inflation.set_index(['country', 'year'])\n",
    "saving_final = saving.set_index(['country', 'year'])"
   ]
  },
  {
   "cell_type": "code",
   "execution_count": null,
   "id": "3a6ebf6a-14c1-4075-885d-003f758199c8",
   "metadata": {},
   "outputs": [],
   "source": [
    "# join data files\n",
    "database_indicators = consumption_final.join(income_final, how='inner')\n",
    "database_indicators = database_indicators.join(inflation_final, how='inner')\n",
    "database_indicators = database_indicators.join(saving_final, how='inner')\n",
    "database_indicators"
   ]
  },
  {
   "cell_type": "code",
   "execution_count": null,
   "id": "d818dba1-69ef-4667-b4f0-1ac60f74f316",
   "metadata": {},
   "outputs": [],
   "source": [
    "# Reset Index and name columns\n",
    "database_indicators = database_indicators.reset_index()\n",
    "database_indicators.columns = [\"country\", \"year\", \"consumption_MEUR\", \"net_income_MEUR\", \"hvpi_2015\", \"inflation\", \"saving_net\", \"saving_ratio\"]\n",
    "database_indicators"
   ]
  },
  {
   "cell_type": "code",
   "execution_count": null,
   "id": "155e5761-153f-49ff-add0-9bd94ea182cd",
   "metadata": {},
   "outputs": [],
   "source": [
    "# Create column country names\n",
    "database_indicators[\"country_ID\"] = database_indicators[\"country\"]\n",
    "database_indicators[\"country\"] = database_indicators[\"country\"].replace({\"EU\":\"European_Union\", \"BE\":\"Belgium\", \"BG\":\"Bulgaria\", \"DK\":\"Denmark\", \"DE\":\"Germany\", \"EE\":\"Estonia\",\n",
    "                                                        \"FI\":\"Finland\", \"FR\":\"France\", \"GR\":\"Greece\", \"IE\":\"Ireland\", \"IT\":\"Italy\",\n",
    "                                                        \"HR\":\"Croatia\", \"LV\":\"Latvia\", \"LT\":\"Lithuania\", \"LU\":\"Luxembourg\", \"MT\":\"Malta\", \"NL\":\"Netherlands\", \n",
    "                                                        \"AT\":\"Austria\", \"PL\":\"Poland\", \"PT\":\"Portugal\", \"RO\":\"Romania\", \"SE\":\"Sweden\",\n",
    "                                                        \"SK\":\"Slovakia\", \"SI\":\"Slovenia\", \"ES\":\"Spain\", \"CZ\":\"Czech_Republic\", \"HU\":\"Hungary\",\n",
    "                                                        \"CY\":\"Cyprus\"}, regex=True)\n",
    "database_indicators"
   ]
  },
  {
   "cell_type": "code",
   "execution_count": null,
   "id": "05762616-b490-49a5-9bb2-92a2bd169e34",
   "metadata": {},
   "outputs": [],
   "source": [
    "# Create column year ID\n",
    "database_indicators[\"year_ID\"] = (database_indicators[\"year\"] - 2000)\n",
    "database_indicators"
   ]
  },
  {
   "cell_type": "code",
   "execution_count": null,
   "id": "effcfca1-942d-4c4c-b373-59a469a89d7c",
   "metadata": {},
   "outputs": [],
   "source": [
    "# Create column indicator ID\n",
    "database_indicators[\"indicator_ID\"] = database_indicators[\"country_ID\"] + database_indicators[\"year_ID\"].astype(str)\n",
    "database_indicators"
   ]
  },
  {
   "cell_type": "code",
   "execution_count": null,
   "id": "16e9d10c-b30f-46d9-ba5f-acdf8796ca67",
   "metadata": {},
   "outputs": [],
   "source": [
    "# Create file for entity \"country\"\n",
    "df_country = database_indicators[\"country_ID\"]\n",
    "df_country = pd.DataFrame(df_country)\n",
    "df_country[\"country\"] = database_indicators[\"country\"]\n",
    "df_country = df_country.drop_duplicates()\n",
    "df_country"
   ]
  },
  {
   "cell_type": "code",
   "execution_count": null,
   "id": "9db45db5-e509-4366-b6d9-1ead4e3f1194",
   "metadata": {},
   "outputs": [],
   "source": [
    "#df_country.to_csv(\"../../data/database/country.csv\", index=False, encoding=\"utf-8\", sep=\";\")"
   ]
  },
  {
   "cell_type": "code",
   "execution_count": null,
   "id": "5082873a-0834-4c51-ac8c-8987b5c7b401",
   "metadata": {},
   "outputs": [],
   "source": [
    "# Create file for entity \"year\"\n",
    "df_year = database_indicators[\"year_ID\"]\n",
    "df_year = pd.DataFrame(df_year)\n",
    "df_year[\"year\"] = database_indicators[\"year\"]\n",
    "df_year = df_year.drop_duplicates()\n",
    "df_year"
   ]
  },
  {
   "cell_type": "code",
   "execution_count": null,
   "id": "018e2fa1-bea9-4998-bdec-553123d83e14",
   "metadata": {},
   "outputs": [],
   "source": [
    "new_rows = pd.DataFrame({\"year_ID\":[10,11,24], \"year\":[2010,2011,2024]})\n",
    "\n",
    "df_year = pd.concat([df_year, new_rows], ignore_index=True)\n",
    "\n",
    "df_year"
   ]
  },
  {
   "cell_type": "code",
   "execution_count": null,
   "id": "85884101-4fe8-471e-9177-66841afdf706",
   "metadata": {},
   "outputs": [],
   "source": [
    "#df_year.to_csv(\"../../data/database/year.csv\", index=False, encoding=\"utf-8\", sep=\";\")"
   ]
  },
  {
   "cell_type": "code",
   "execution_count": null,
   "id": "1b38cabf-e7c9-4167-b0b7-ea5cc1afda54",
   "metadata": {},
   "outputs": [],
   "source": [
    "# Create file for entity \"KPIs\"\n",
    "df_kpi = database_indicators[\"KPI_ID\"]\n",
    "df_kpi = pd.DataFrame(df_kpi)\n",
    "df_kpi[\"KPI_name\"] = database_indicators[\"KPI_name\"]\n",
    "df_kpi = df_kpi.drop_duplicates()\n",
    "df_kpi"
   ]
  },
  {
   "cell_type": "code",
   "execution_count": null,
   "id": "80eddf59-06d3-4fed-b71d-05494f5ee347",
   "metadata": {},
   "outputs": [],
   "source": [
    "#df_kpi.to_csv(\"../../data/database/kpi.csv\", index=False, encoding=\"utf-8\", sep=\";\")"
   ]
  },
  {
   "cell_type": "code",
   "execution_count": null,
   "id": "fd052a98-eba1-4d47-92b5-3f17600c9f6a",
   "metadata": {},
   "outputs": [],
   "source": [
    "# Create file for entity \"indicators\"\n",
    "selected_columns = ['indicator_ID', 'country_ID', 'year_ID', 'consumption_MEUR', 'net_income_MEUR', 'hvpi_2015', 'inflation', 'saving_net', 'saving_ratio']\n",
    "\n",
    "df_indicators = database_indicators[selected_columns]\n",
    "df_indicators"
   ]
  },
  {
   "cell_type": "code",
   "execution_count": null,
   "id": "645c63c0-9f69-4fdc-94c2-93ac3d6e9ae8",
   "metadata": {},
   "outputs": [],
   "source": [
    "#df_indicators.to_csv(\"../../data/database/kpis_total_new.csv\", index=False, encoding=\"utf-8\", sep=\";\")"
   ]
  },
  {
   "cell_type": "code",
   "execution_count": null,
   "id": "df99a466-e909-4e0a-afed-5987089abb7d",
   "metadata": {},
   "outputs": [],
   "source": []
  }
 ],
 "metadata": {
  "kernelspec": {
   "display_name": "venv",
   "language": "python",
   "name": "venv"
  },
  "language_info": {
   "codemirror_mode": {
    "name": "ipython",
    "version": 3
   },
   "file_extension": ".py",
   "mimetype": "text/x-python",
   "name": "python",
   "nbconvert_exporter": "python",
   "pygments_lexer": "ipython3",
   "version": "3.12.3"
  }
 },
 "nbformat": 4,
 "nbformat_minor": 5
}
