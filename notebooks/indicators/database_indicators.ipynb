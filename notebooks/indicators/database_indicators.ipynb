{
 "cells": [
  {
   "cell_type": "code",
   "execution_count": 1,
   "id": "d37a6e71-fb6a-421e-b037-03a0ff0bd66c",
   "metadata": {},
   "outputs": [],
   "source": [
    "import pandas as pd\n",
    "import numpy as np\n",
    "\n",
    "consumption = pd.read_csv(\"../../data/clean/consumption.csv\")\n",
    "income = pd.read_csv(\"../../data/clean/disposable_income.csv\")\n",
    "inflation = pd.read_csv(\"../../data/clean/inflation_hvpi.csv\")\n",
    "saving = pd.read_csv(\"../../data/clean/saving.csv\")"
   ]
  },
  {
   "cell_type": "code",
   "execution_count": 2,
   "id": "98ed9115-6088-4bd3-b820-f254268ed525",
   "metadata": {},
   "outputs": [],
   "source": [
    "# Set same Index for all data files\n",
    "consumption_final = consumption.set_index(['country', 'year'])\n",
    "income_final = income.set_index(['country', 'year'])\n",
    "inflation_final = inflation.set_index(['country', 'year'])\n",
    "saving_final = saving.set_index(['country', 'year'])"
   ]
  },
  {
   "cell_type": "code",
   "execution_count": 3,
   "id": "3a6ebf6a-14c1-4075-885d-003f758199c8",
   "metadata": {},
   "outputs": [
    {
     "data": {
      "text/html": [
       "<div>\n",
       "<style scoped>\n",
       "    .dataframe tbody tr th:only-of-type {\n",
       "        vertical-align: middle;\n",
       "    }\n",
       "\n",
       "    .dataframe tbody tr th {\n",
       "        vertical-align: top;\n",
       "    }\n",
       "\n",
       "    .dataframe thead th {\n",
       "        text-align: right;\n",
       "    }\n",
       "</style>\n",
       "<table border=\"1\" class=\"dataframe\">\n",
       "  <thead>\n",
       "    <tr style=\"text-align: right;\">\n",
       "      <th></th>\n",
       "      <th></th>\n",
       "      <th>consumptionMEUR</th>\n",
       "      <th>net_income_MEUR</th>\n",
       "      <th>hvpi_2015</th>\n",
       "      <th>inflation</th>\n",
       "      <th>saving_net</th>\n",
       "      <th>saving_ratio</th>\n",
       "    </tr>\n",
       "    <tr>\n",
       "      <th>country</th>\n",
       "      <th>year</th>\n",
       "      <th></th>\n",
       "      <th></th>\n",
       "      <th></th>\n",
       "      <th></th>\n",
       "      <th></th>\n",
       "      <th></th>\n",
       "    </tr>\n",
       "  </thead>\n",
       "  <tbody>\n",
       "    <tr>\n",
       "      <th rowspan=\"5\" valign=\"top\">EU</th>\n",
       "      <th>2012</th>\n",
       "      <td>231037</td>\n",
       "      <td>242021</td>\n",
       "      <td>98</td>\n",
       "      <td>2.6</td>\n",
       "      <td>15543</td>\n",
       "      <td>7.497778</td>\n",
       "    </tr>\n",
       "    <tr>\n",
       "      <th>2013</th>\n",
       "      <td>232071</td>\n",
       "      <td>243075</td>\n",
       "      <td>99</td>\n",
       "      <td>1.3</td>\n",
       "      <td>15719</td>\n",
       "      <td>7.920000</td>\n",
       "    </tr>\n",
       "    <tr>\n",
       "      <th>2014</th>\n",
       "      <td>235210</td>\n",
       "      <td>246891</td>\n",
       "      <td>99</td>\n",
       "      <td>0.4</td>\n",
       "      <td>16375</td>\n",
       "      <td>7.895926</td>\n",
       "    </tr>\n",
       "    <tr>\n",
       "      <th>2015</th>\n",
       "      <td>241094</td>\n",
       "      <td>252831</td>\n",
       "      <td>100</td>\n",
       "      <td>0.1</td>\n",
       "      <td>16428</td>\n",
       "      <td>8.295926</td>\n",
       "    </tr>\n",
       "    <tr>\n",
       "      <th>2016</th>\n",
       "      <td>246785</td>\n",
       "      <td>259480</td>\n",
       "      <td>100</td>\n",
       "      <td>0.2</td>\n",
       "      <td>17394</td>\n",
       "      <td>8.830000</td>\n",
       "    </tr>\n",
       "    <tr>\n",
       "      <th>...</th>\n",
       "      <th>...</th>\n",
       "      <td>...</td>\n",
       "      <td>...</td>\n",
       "      <td>...</td>\n",
       "      <td>...</td>\n",
       "      <td>...</td>\n",
       "      <td>...</td>\n",
       "    </tr>\n",
       "    <tr>\n",
       "      <th rowspan=\"5\" valign=\"top\">SE</th>\n",
       "      <th>2019</th>\n",
       "      <td>211604</td>\n",
       "      <td>224413</td>\n",
       "      <td>106</td>\n",
       "      <td>1.7</td>\n",
       "      <td>36130</td>\n",
       "      <td>17.030000</td>\n",
       "    </tr>\n",
       "    <tr>\n",
       "      <th>2020</th>\n",
       "      <td>208823</td>\n",
       "      <td>226954</td>\n",
       "      <td>107</td>\n",
       "      <td>0.7</td>\n",
       "      <td>36841</td>\n",
       "      <td>17.610000</td>\n",
       "    </tr>\n",
       "    <tr>\n",
       "      <th>2021</th>\n",
       "      <td>233087</td>\n",
       "      <td>249979</td>\n",
       "      <td>110</td>\n",
       "      <td>2.7</td>\n",
       "      <td>40939</td>\n",
       "      <td>17.530000</td>\n",
       "    </tr>\n",
       "    <tr>\n",
       "      <th>2022</th>\n",
       "      <td>244379</td>\n",
       "      <td>258773</td>\n",
       "      <td>119</td>\n",
       "      <td>8.1</td>\n",
       "      <td>36917</td>\n",
       "      <td>15.740000</td>\n",
       "    </tr>\n",
       "    <tr>\n",
       "      <th>2023</th>\n",
       "      <td>237262</td>\n",
       "      <td>252578</td>\n",
       "      <td>126</td>\n",
       "      <td>5.9</td>\n",
       "      <td>39943</td>\n",
       "      <td>16.930000</td>\n",
       "    </tr>\n",
       "  </tbody>\n",
       "</table>\n",
       "<p>336 rows × 6 columns</p>\n",
       "</div>"
      ],
      "text/plain": [
       "              consumptionMEUR  net_income_MEUR  hvpi_2015  inflation  \\\n",
       "country year                                                           \n",
       "EU      2012           231037           242021         98        2.6   \n",
       "        2013           232071           243075         99        1.3   \n",
       "        2014           235210           246891         99        0.4   \n",
       "        2015           241094           252831        100        0.1   \n",
       "        2016           246785           259480        100        0.2   \n",
       "...                       ...              ...        ...        ...   \n",
       "SE      2019           211604           224413        106        1.7   \n",
       "        2020           208823           226954        107        0.7   \n",
       "        2021           233087           249979        110        2.7   \n",
       "        2022           244379           258773        119        8.1   \n",
       "        2023           237262           252578        126        5.9   \n",
       "\n",
       "              saving_net  saving_ratio  \n",
       "country year                            \n",
       "EU      2012       15543      7.497778  \n",
       "        2013       15719      7.920000  \n",
       "        2014       16375      7.895926  \n",
       "        2015       16428      8.295926  \n",
       "        2016       17394      8.830000  \n",
       "...                  ...           ...  \n",
       "SE      2019       36130     17.030000  \n",
       "        2020       36841     17.610000  \n",
       "        2021       40939     17.530000  \n",
       "        2022       36917     15.740000  \n",
       "        2023       39943     16.930000  \n",
       "\n",
       "[336 rows x 6 columns]"
      ]
     },
     "execution_count": 3,
     "metadata": {},
     "output_type": "execute_result"
    }
   ],
   "source": [
    "# join data files\n",
    "database_indicators = consumption_final.join(income_final, how='inner')\n",
    "database_indicators = database_indicators.join(inflation_final, how='inner')\n",
    "database_indicators = database_indicators.join(saving_final, how='inner')\n",
    "database_indicators"
   ]
  },
  {
   "cell_type": "code",
   "execution_count": null,
   "id": "d818dba1-69ef-4667-b4f0-1ac60f74f316",
   "metadata": {},
   "outputs": [],
   "source": [
    "# Reset Index and name columns\n",
    "database_indicators = database_indicators.reset_index()\n",
    "database_indicators.columns = [\"country\", \"year\", \"consumption_MEUR\", \"net_income_MEUR\", \"hvpi_2015\", \"inflation\", \"saving_net\", \"saving_ratio\"]\n",
    "database_indicators"
   ]
  },
  {
   "cell_type": "code",
   "execution_count": null,
   "id": "155e5761-153f-49ff-add0-9bd94ea182cd",
   "metadata": {},
   "outputs": [],
   "source": [
    "# Create column country names\n",
    "database_indicators[\"country_ID\"] = database_indicators[\"country\"]\n",
    "database_indicators[\"country\"] = database_indicators[\"country\"].replace({\"EU\":\"European_Union\", \"BE\":\"Belgium\", \"BG\":\"Bulgaria\", \"DK\":\"Denmark\", \"DE\":\"Germany\", \"EE\":\"Estonia\",\n",
    "                                                        \"FI\":\"Finland\", \"FR\":\"France\", \"GR\":\"Greece\", \"IE\":\"Ireland\", \"IT\":\"Italy\",\n",
    "                                                        \"HR\":\"Croatia\", \"LV\":\"Latvia\", \"LT\":\"Lithuania\", \"LU\":\"Luxembourg\", \"MT\":\"Malta\", \"NL\":\"Netherlands\", \n",
    "                                                        \"AT\":\"Austria\", \"PL\":\"Poland\", \"PT\":\"Portugal\", \"RO\":\"Romania\", \"SE\":\"Sweden\",\n",
    "                                                        \"SK\":\"Slovakia\", \"SI\":\"Slovenia\", \"ES\":\"Spain\", \"CZ\":\"Czech_Republic\", \"HU\":\"Hungary\",\n",
    "                                                        \"CY\":\"Cyprus\"}, regex=True)\n",
    "database_indicators"
   ]
  },
  {
   "cell_type": "code",
   "execution_count": null,
   "id": "05762616-b490-49a5-9bb2-92a2bd169e34",
   "metadata": {},
   "outputs": [],
   "source": [
    "# Create column year ID\n",
    "database_indicators[\"year_ID\"] = (database_indicators[\"year\"] - 2000)\n",
    "database_indicators"
   ]
  },
  {
   "cell_type": "code",
   "execution_count": null,
   "id": "d905eb75-c1bc-45e9-b47a-d5731949142f",
   "metadata": {},
   "outputs": [],
   "source": [
    "# Stack Dataframe\n",
    "database_indicators = database_indicators.set_index([\"country_ID\", \"country\", \"year_ID\", \"year\"])\n",
    "database_indicators = database_indicators.stack()\n",
    "database_indicators = pd.DataFrame(database_indicators)\n",
    "database_indicators = database_indicators.reset_index()\n",
    "database_indicators.columns = [\"country_ID\", \"country\", \"year_ID\", \"year\", \"KPI_name\", \"value\"]\n",
    "database_indicators"
   ]
  },
  {
   "cell_type": "code",
   "execution_count": null,
   "id": "7f9cde1d-62e3-4769-801d-70078b1df6af",
   "metadata": {},
   "outputs": [],
   "source": [
    "# Create column KPI ID\n",
    "database_indicators[\"KPI_ID\"] = database_indicators[\"KPI_name\"]\n",
    "database_indicators[\"KPI_ID\"] = database_indicators[\"KPI_name\"].replace({\"consumption_MEUR\":\"CON\", \"net_income_MEUR\":\"INC\", \"hvpi_2015\":\"HVPI\", \"inflation\":\"INF\", \"saving_net\":\"SAVN\", \"saving_ratio\":\"SAVR\"}, regex=True)\t\n",
    "database_indicators"
   ]
  },
  {
   "cell_type": "code",
   "execution_count": null,
   "id": "effcfca1-942d-4c4c-b373-59a469a89d7c",
   "metadata": {},
   "outputs": [],
   "source": [
    "# Create column indicator ID\n",
    "database_indicators[\"indicator_ID\"] = database_indicators[\"country_ID\"] + database_indicators[\"year_ID\"].astype(str)\n",
    "database_indicators[\"indicator_ID\"] = database_indicators[\"indicator_ID\"] + \"_\" + database_indicators[\"KPI_ID\"]\n",
    "database_indicators"
   ]
  },
  {
   "cell_type": "code",
   "execution_count": null,
   "id": "16e9d10c-b30f-46d9-ba5f-acdf8796ca67",
   "metadata": {},
   "outputs": [],
   "source": [
    "# Create file for entity \"country\"\n",
    "df_country = database_indicators[\"country_ID\"]\n",
    "df_country = pd.DataFrame(df_country)\n",
    "df_country[\"country\"] = database_indicators[\"country\"]\n",
    "df_country = df_country.drop_duplicates()\n",
    "df_country"
   ]
  },
  {
   "cell_type": "code",
   "execution_count": null,
   "id": "9db45db5-e509-4366-b6d9-1ead4e3f1194",
   "metadata": {},
   "outputs": [],
   "source": [
    "#df_country.to_csv(\"../../data/database/country.csv\", index=False, encoding=\"utf-8\", sep=\";\")"
   ]
  },
  {
   "cell_type": "code",
   "execution_count": null,
   "id": "5082873a-0834-4c51-ac8c-8987b5c7b401",
   "metadata": {},
   "outputs": [],
   "source": [
    "# Create file for entity \"year\"\n",
    "df_year = database_indicators[\"year_ID\"]\n",
    "df_year = pd.DataFrame(df_year)\n",
    "df_year[\"year\"] = database_indicators[\"year\"]\n",
    "df_year = df_year.drop_duplicates()\n",
    "df_year"
   ]
  },
  {
   "cell_type": "code",
   "execution_count": null,
   "id": "018e2fa1-bea9-4998-bdec-553123d83e14",
   "metadata": {},
   "outputs": [],
   "source": [
    "new_rows = pd.DataFrame({\"year_ID\":[10,11,24], \"year\":[2010,2011,2024]})\n",
    "\n",
    "df_year = pd.concat([df_year, new_rows], ignore_index=True)\n",
    "\n",
    "df_year"
   ]
  },
  {
   "cell_type": "code",
   "execution_count": null,
   "id": "85884101-4fe8-471e-9177-66841afdf706",
   "metadata": {},
   "outputs": [],
   "source": [
    "#df_year.to_csv(\"../../data/database/year.csv\", index=False, encoding=\"utf-8\", sep=\";\")"
   ]
  },
  {
   "cell_type": "code",
   "execution_count": null,
   "id": "1b38cabf-e7c9-4167-b0b7-ea5cc1afda54",
   "metadata": {},
   "outputs": [],
   "source": [
    "# Create file for entity \"KPIs\"\n",
    "df_kpi = database_indicators[\"KPI_ID\"]\n",
    "df_kpi = pd.DataFrame(df_kpi)\n",
    "df_kpi[\"KPI_name\"] = database_indicators[\"KPI_name\"]\n",
    "df_kpi = df_kpi.drop_duplicates()\n",
    "df_kpi"
   ]
  },
  {
   "cell_type": "code",
   "execution_count": null,
   "id": "80eddf59-06d3-4fed-b71d-05494f5ee347",
   "metadata": {},
   "outputs": [],
   "source": [
    "#df_kpi.to_csv(\"../../data/database/kpi.csv\", index=False, encoding=\"utf-8\", sep=\";\")"
   ]
  },
  {
   "cell_type": "code",
   "execution_count": null,
   "id": "fd052a98-eba1-4d47-92b5-3f17600c9f6a",
   "metadata": {},
   "outputs": [],
   "source": [
    "# Create file for entity \"indicators\"\n",
    "selected_columns = ['indicator_ID', 'country_ID', 'year_ID', 'KPI_ID', 'value']\n",
    "\n",
    "df_indicators = database_indicators[selected_columns]\n",
    "df_indicators"
   ]
  },
  {
   "cell_type": "code",
   "execution_count": null,
   "id": "645c63c0-9f69-4fdc-94c2-93ac3d6e9ae8",
   "metadata": {},
   "outputs": [],
   "source": [
    "#df_indicators.to_csv(\"../../data/database/indicators.csv\", index=False, encoding=\"utf-8\", sep=\";\")"
   ]
  },
  {
   "cell_type": "code",
   "execution_count": null,
   "id": "df99a466-e909-4e0a-afed-5987089abb7d",
   "metadata": {},
   "outputs": [],
   "source": []
  }
 ],
 "metadata": {
  "kernelspec": {
   "display_name": "venv",
   "language": "python",
   "name": "venv"
  },
  "language_info": {
   "codemirror_mode": {
    "name": "ipython",
    "version": 3
   },
   "file_extension": ".py",
   "mimetype": "text/x-python",
   "name": "python",
   "nbconvert_exporter": "python",
   "pygments_lexer": "ipython3",
   "version": "3.12.3"
  }
 },
 "nbformat": 4,
 "nbformat_minor": 5
}
