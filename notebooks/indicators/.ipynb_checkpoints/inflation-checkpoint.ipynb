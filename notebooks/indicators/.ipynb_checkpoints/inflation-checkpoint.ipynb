{
 "cells": [
  {
   "cell_type": "code",
   "execution_count": null,
   "id": "db58b9d4-0cae-472a-9b69-6fb41ad4cf9b",
   "metadata": {},
   "outputs": [],
   "source": [
    "import pandas as pd\n",
    "import numpy as np\n",
    "\n",
    "hvpi = pd.read_excel(\"../../data/raw/HVPI.xlsx\")\n",
    "inflation = pd.read_excel(\"../../data/raw/Inflation.xlsx\")\n",
    "\n",
    "display(hvpi, inflation)"
   ]
  },
  {
   "cell_type": "markdown",
   "id": "7b608e1f-db6b-45a5-ad2b-ea04ebce3690",
   "metadata": {},
   "source": [
    "## Data Cleaning except null-values"
   ]
  },
  {
   "cell_type": "code",
   "execution_count": null,
   "id": "3d563349-a18b-4348-a6e2-2151558a6d99",
   "metadata": {},
   "outputs": [],
   "source": [
    "from clean import data_clean\n",
    "\n",
    "columns_df = ['2011', '2012', '2013', '2014', '2015', '2016', '2017', '2018', '2019', '2020', '2021', '2022', '2023', '2024']\n",
    "df = hvpi\n",
    "\n",
    "hvpi = data_clean(df, columns_df)\n",
    "hvpi = hvpi.drop([35,36,37,38,39])\n",
    "hvpi"
   ]
  },
  {
   "cell_type": "code",
   "execution_count": null,
   "id": "077f23b8-eb52-4633-8ad8-23667af070a4",
   "metadata": {},
   "outputs": [],
   "source": [
    "from clean import data_clean\n",
    "\n",
    "columns_df = ['2011', '2012', '2013', '2014', '2015', '2016', '2017', '2018', '2019', '2020', '2021', '2022', '2023', '2024']\n",
    "df = inflation\n",
    "\n",
    "inflation = data_clean(df, columns_df)\n",
    "inflation = inflation.drop([35,36,37,38])\n",
    "inflation"
   ]
  },
  {
   "cell_type": "markdown",
   "id": "0a5494c7-f2d3-4161-b942-52f51248bc75",
   "metadata": {},
   "source": [
    "## Null-values"
   ]
  },
  {
   "cell_type": "code",
   "execution_count": null,
   "id": "9a5c1f52-3a4e-41f2-8f13-bc734c57051e",
   "metadata": {},
   "outputs": [],
   "source": [
    "hvpi.isna().sum()"
   ]
  },
  {
   "cell_type": "code",
   "execution_count": null,
   "id": "f5725e36-6cf8-40f3-80f1-0b310c04bcf7",
   "metadata": {},
   "outputs": [],
   "source": [
    "inflation.isna().sum()"
   ]
  },
  {
   "cell_type": "markdown",
   "id": "c6c33e89-7538-4d64-867c-b5399d17e14e",
   "metadata": {},
   "source": [
    "## Data types"
   ]
  },
  {
   "cell_type": "code",
   "execution_count": null,
   "id": "0ba9365e-a2a9-4c55-a11b-b4fef0275ce2",
   "metadata": {},
   "outputs": [],
   "source": [
    "hvpi.dtypes"
   ]
  },
  {
   "cell_type": "code",
   "execution_count": null,
   "id": "4e3e4935-a966-49a0-813a-3ab8b7526fac",
   "metadata": {},
   "outputs": [],
   "source": [
    "inflation.dtypes"
   ]
  },
  {
   "cell_type": "code",
   "execution_count": null,
   "id": "95a12f3b-26f1-4022-bbd8-db7ede603c93",
   "metadata": {},
   "outputs": [],
   "source": [
    "columns = ['2011', '2012', '2013', '2014', '2015', '2016', '2017', '2018', '2019', '2020', '2021', '2022', '2023', '2024']\n",
    "for column in columns:\n",
    "    hvpi[column] = hvpi[column].astype(int)\n",
    "\n",
    "hvpi.dtypes"
   ]
  },
  {
   "cell_type": "code",
   "execution_count": null,
   "id": "f09b11c6-bb0d-4ca9-bc0b-248376e83e05",
   "metadata": {},
   "outputs": [],
   "source": [
    "#columns = ['2011', '2012', '2013', '2014', '2015', '2016', '2017', '2018', '2019', '2020', '2021', '2022', '2023', '2024']\n",
    "#for column in columns:\n",
    "#    inflation[column] = inflation[column].astype(int)\n",
    "\n",
    "#inflation.dtypes"
   ]
  },
  {
   "cell_type": "markdown",
   "id": "596909c8-e492-4c52-8ff6-b5f95ab1de0c",
   "metadata": {},
   "source": [
    "## Stack dataframe for MySQL"
   ]
  },
  {
   "cell_type": "code",
   "execution_count": null,
   "id": "92b51c98-b937-41ff-9a83-89e46b1f052a",
   "metadata": {},
   "outputs": [],
   "source": [
    "hvpi_final = hvpi.set_index(\"country\")\n",
    "hvpi_final = hvpi_final.stack()\n",
    "hvpi_final = pd.DataFrame(hvpi_final)\n",
    "hvpi_final = hvpi_final.reset_index()\n",
    "hvpi_final.columns = [\"country\", \"year\", \"hvpi_2015\"]\n",
    "hvpi_final = hvpi_final.set_index(['country', 'year'])\n",
    "hvpi_final"
   ]
  },
  {
   "cell_type": "code",
   "execution_count": null,
   "id": "0368e69d-bffe-422a-bde7-65e4d5621c77",
   "metadata": {},
   "outputs": [],
   "source": [
    "inflation_final = inflation.set_index(\"country\")\n",
    "inflation_final = inflation_final.stack()\n",
    "inflation_final = pd.DataFrame(inflation_final)\n",
    "inflation_final = inflation_final.reset_index()\n",
    "inflation_final.columns = [\"country\", \"year\", \"inflation\"]\n",
    "inflation_final = inflation_final.set_index(['country', 'year'])\n",
    "inflation_final"
   ]
  },
  {
   "cell_type": "code",
   "execution_count": null,
   "id": "e56c1614-45ed-4cb7-a7ee-387220110eb3",
   "metadata": {},
   "outputs": [],
   "source": [
    "inflation_hvpi = hvpi_final.join(inflation_final, how='inner')\n",
    "inflation_hvpi = inflation_hvpi.reset_index()\n",
    "inflation_hvpi.columns = [\"country\", \"year\", \"hvpi_2015\", \"inflation\"]\n",
    "inflation_hvpi"
   ]
  },
  {
   "cell_type": "code",
   "execution_count": null,
   "id": "00309a37-348f-4ee3-aca0-a4e534a7af23",
   "metadata": {},
   "outputs": [],
   "source": [
    "#inflation_hvpi.to_csv(\"../data/clean/inflation_hvpi.csv\", index=False, encoding=\"utf-8\", sep=\",\")"
   ]
  },
  {
   "cell_type": "code",
   "execution_count": null,
   "id": "6de069f4-97ed-404b-af97-a621e29091de",
   "metadata": {},
   "outputs": [],
   "source": []
  }
 ],
 "metadata": {
  "kernelspec": {
   "display_name": "Python [conda env:base] *",
   "language": "python",
   "name": "conda-base-py"
  },
  "language_info": {
   "codemirror_mode": {
    "name": "ipython",
    "version": 3
   },
   "file_extension": ".py",
   "mimetype": "text/x-python",
   "name": "python",
   "nbconvert_exporter": "python",
   "pygments_lexer": "ipython3",
   "version": "3.12.3"
  }
 },
 "nbformat": 4,
 "nbformat_minor": 5
}
