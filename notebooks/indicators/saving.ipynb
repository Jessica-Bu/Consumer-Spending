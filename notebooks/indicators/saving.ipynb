{
 "cells": [
  {
   "cell_type": "code",
   "execution_count": null,
   "id": "db58b9d4-0cae-472a-9b69-6fb41ad4cf9b",
   "metadata": {},
   "outputs": [],
   "source": [
    "import pandas as pd\n",
    "import numpy as np\n",
    "\n",
    "saving_net = pd.read_excel(\"../../data/raw/Saving_net.xlsx\")\n",
    "saving_ratio = pd.read_excel(\"../../data/raw/Saving_ratio_gross.xlsx\")\n",
    "\n",
    "display(saving_net, saving_ratio)"
   ]
  },
  {
   "cell_type": "markdown",
   "id": "7b608e1f-db6b-45a5-ad2b-ea04ebce3690",
   "metadata": {},
   "source": [
    "## Data Cleaning except null-values"
   ]
  },
  {
   "cell_type": "code",
   "execution_count": null,
   "id": "3d563349-a18b-4348-a6e2-2151558a6d99",
   "metadata": {},
   "outputs": [],
   "source": [
    "from clean import data_clean\n",
    "\n",
    "columns_df = ['2010', '2011', '2012', '2013', '2014', '2015', '2016', '2017', '2018', '2019', '2020', '2021', '2022', '2023', '2024']\n",
    "df = saving_net\n",
    "\n",
    "saving_net = data_clean(df, columns_df)\n",
    "saving_net"
   ]
  },
  {
   "cell_type": "code",
   "execution_count": null,
   "id": "077f23b8-eb52-4633-8ad8-23667af070a4",
   "metadata": {},
   "outputs": [],
   "source": [
    "from clean import data_clean\n",
    "\n",
    "columns_df = ['2010', '2011', '2012', '2013', '2014', '2015', '2016', '2017', '2018', '2019', '2020', '2021', '2022', '2023', '2024']\n",
    "df = saving_ratio\n",
    "\n",
    "saving_ratio = data_clean(df, columns_df)\n",
    "saving_ratio"
   ]
  },
  {
   "cell_type": "markdown",
   "id": "0a5494c7-f2d3-4161-b942-52f51248bc75",
   "metadata": {},
   "source": [
    "## Null-values"
   ]
  },
  {
   "cell_type": "code",
   "execution_count": null,
   "id": "9a5c1f52-3a4e-41f2-8f13-bc734c57051e",
   "metadata": {},
   "outputs": [],
   "source": [
    "saving_net.isna().sum()"
   ]
  },
  {
   "cell_type": "code",
   "execution_count": null,
   "id": "37ef4bd3-e558-439f-8bb7-629e18cd6876",
   "metadata": {},
   "outputs": [],
   "source": [
    "saving_ratio.isna().sum()"
   ]
  },
  {
   "cell_type": "code",
   "execution_count": null,
   "id": "c5229f80-45f2-4272-8bcf-7c8bc39af004",
   "metadata": {},
   "outputs": [],
   "source": [
    "# drop 2010, 2011, 2024\n",
    "\n",
    "saving_net = saving_net.drop([\"2010\", \"2011\", \"2024\"], axis=1)\n",
    "saving_net.isna().sum()"
   ]
  },
  {
   "cell_type": "code",
   "execution_count": null,
   "id": "941fed7a-ae71-4f40-90e5-7e0a06f21d89",
   "metadata": {},
   "outputs": [],
   "source": [
    "\n",
    "saving_ratio = saving_ratio.drop([\"2010\", \"2011\", \"2024\"], axis=1)\n",
    "saving_ratio.isna().sum()"
   ]
  },
  {
   "cell_type": "code",
   "execution_count": null,
   "id": "02d61805-526e-4119-a9ca-b266882119a4",
   "metadata": {},
   "outputs": [],
   "source": [
    "# Fill 2023 for BG and PT \n",
    "\n",
    "df = saving_net.drop([0,2])\n",
    "\n",
    "saving_net.at[2, \"2023\"] = saving_net.loc[2, \"2022\"] - (saving_net.loc[2, \"2022\"] * ((df[\"2023\"].sum() - df[\"2022\"].sum()) / df[\"2022\"].sum()))\n",
    "saving_net.at[22, \"2023\"] = saving_net.loc[22, \"2022\"] - (saving_net.loc[22, \"2022\"] * ((df[\"2023\"].sum() - df[\"2022\"].sum()) / df[\"2022\"].sum()))"
   ]
  },
  {
   "cell_type": "code",
   "execution_count": null,
   "id": "d60b414e-6971-4a73-9c16-156accb12f46",
   "metadata": {},
   "outputs": [],
   "source": [
    "df = saving_ratio.drop([0,2])\n",
    "\n",
    "saving_ratio.at[2, \"2023\"] = saving_ratio.loc[2, \"2022\"] - (saving_ratio.loc[2, \"2022\"] * ((df[\"2023\"].sum() - df[\"2022\"].sum()) / df[\"2022\"].sum()))\n",
    "saving_ratio.at[22, \"2023\"] = saving_ratio.loc[22, \"2022\"] * (1 + ((df[\"2023\"].sum() - df[\"2022\"].sum()) / df[\"2022\"].sum()))"
   ]
  },
  {
   "cell_type": "code",
   "execution_count": null,
   "id": "7135b79d-e730-4200-8a65-840989a83d63",
   "metadata": {},
   "outputs": [],
   "source": [
    "# fill in values for EU\n",
    "\n",
    "for number in range(1, len(saving_net.columns)):\n",
    "    saving_net.at[0, saving_net.columns[number]] = saving_net.iloc[:, number].mean()\n",
    "\n",
    "saving_net"
   ]
  },
  {
   "cell_type": "code",
   "execution_count": null,
   "id": "32dff014-1829-4975-a31f-43f8140d9bd4",
   "metadata": {},
   "outputs": [],
   "source": [
    "for number in range(1, len(saving_ratio.columns)):\n",
    "    saving_ratio.at[0, saving_ratio.columns[number]] = saving_ratio.iloc[:, number].mean()\n",
    "\n",
    "saving_ratio"
   ]
  },
  {
   "cell_type": "code",
   "execution_count": null,
   "id": "f5725e36-6cf8-40f3-80f1-0b310c04bcf7",
   "metadata": {},
   "outputs": [],
   "source": [
    "saving_net.isna().sum()"
   ]
  },
  {
   "cell_type": "code",
   "execution_count": null,
   "id": "c25b8c28-6ed7-40ab-aff9-1d988041faf7",
   "metadata": {},
   "outputs": [],
   "source": [
    "saving_ratio.isna().sum()"
   ]
  },
  {
   "cell_type": "markdown",
   "id": "c6c33e89-7538-4d64-867c-b5399d17e14e",
   "metadata": {},
   "source": [
    "## Data types"
   ]
  },
  {
   "cell_type": "code",
   "execution_count": null,
   "id": "0ba9365e-a2a9-4c55-a11b-b4fef0275ce2",
   "metadata": {},
   "outputs": [],
   "source": [
    "saving_net.dtypes"
   ]
  },
  {
   "cell_type": "code",
   "execution_count": null,
   "id": "4e3e4935-a966-49a0-813a-3ab8b7526fac",
   "metadata": {},
   "outputs": [],
   "source": [
    "saving_ratio.dtypes"
   ]
  },
  {
   "cell_type": "code",
   "execution_count": null,
   "id": "95a12f3b-26f1-4022-bbd8-db7ede603c93",
   "metadata": {},
   "outputs": [],
   "source": [
    "columns = ['2012', '2013', '2014', '2015', '2016', '2017', '2018', '2019', '2020', '2021', '2022', '2023']\n",
    "for column in columns:\n",
    "    saving_net[column] = saving_net[column].astype(int)\n",
    "\n",
    "saving_net.dtypes"
   ]
  },
  {
   "cell_type": "markdown",
   "id": "596909c8-e492-4c52-8ff6-b5f95ab1de0c",
   "metadata": {},
   "source": [
    "## Stack dataframe for MySQL"
   ]
  },
  {
   "cell_type": "code",
   "execution_count": null,
   "id": "92b51c98-b937-41ff-9a83-89e46b1f052a",
   "metadata": {},
   "outputs": [],
   "source": [
    "saving_net_final = saving_net.set_index(\"country\")\n",
    "saving_net_final = saving_net_final.stack()\n",
    "saving_net_final = pd.DataFrame(saving_net_final)\n",
    "saving_net_final = saving_net_final.reset_index()\n",
    "saving_net_final.columns = [\"country\", \"year\", \"saving_net\"]\n",
    "saving_net_final = saving_net_final.set_index(['country', 'year'])\n",
    "saving_net_final"
   ]
  },
  {
   "cell_type": "code",
   "execution_count": null,
   "id": "0368e69d-bffe-422a-bde7-65e4d5621c77",
   "metadata": {},
   "outputs": [],
   "source": [
    "saving_ratio_final = saving_ratio.set_index(\"country\")\n",
    "saving_ratio_final = saving_ratio_final.stack()\n",
    "saving_ratio_final = pd.DataFrame(saving_ratio_final)\n",
    "saving_ratio_final = saving_ratio_final.reset_index()\n",
    "saving_ratio_final.columns = [\"country\", \"year\", \"saving_ratio\"]\n",
    "saving_ratio_final = saving_ratio_final.set_index(['country', 'year'])\n",
    "saving_ratio_final"
   ]
  },
  {
   "cell_type": "code",
   "execution_count": null,
   "id": "e56c1614-45ed-4cb7-a7ee-387220110eb3",
   "metadata": {},
   "outputs": [],
   "source": [
    "saving_final = saving_net_final.join(saving_ratio_final, how='inner')\n",
    "saving_final = saving_final.reset_index()\n",
    "saving_final.columns = [\"country\", \"year\", \"saving_net\", \"saving_ratio\"]\n",
    "saving_final"
   ]
  },
  {
   "cell_type": "code",
   "execution_count": null,
   "id": "00309a37-348f-4ee3-aca0-a4e534a7af23",
   "metadata": {},
   "outputs": [],
   "source": [
    "#saving_final.to_csv(\"../data/clean/saving.csv\", index=False, encoding=\"utf-8\", sep=\",\")"
   ]
  },
  {
   "cell_type": "code",
   "execution_count": null,
   "id": "6de069f4-97ed-404b-af97-a621e29091de",
   "metadata": {},
   "outputs": [],
   "source": []
  }
 ],
 "metadata": {
  "kernelspec": {
   "display_name": "venv",
   "language": "python",
   "name": "venv"
  },
  "language_info": {
   "codemirror_mode": {
    "name": "ipython",
    "version": 3
   },
   "file_extension": ".py",
   "mimetype": "text/x-python",
   "name": "python",
   "nbconvert_exporter": "python",
   "pygments_lexer": "ipython3",
   "version": "3.12.3"
  }
 },
 "nbformat": 4,
 "nbformat_minor": 5
}
