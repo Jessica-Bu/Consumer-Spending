{
 "cells": [
  {
   "cell_type": "markdown",
   "id": "2852da3a-f584-4da0-aad0-48760060022d",
   "metadata": {},
   "source": [
    "## Turn different tabs of an excel into dataframes"
   ]
  },
  {
   "cell_type": "code",
   "execution_count": null,
   "id": "fcecc327-e212-4d8b-b2a6-d41630d9c588",
   "metadata": {},
   "outputs": [],
   "source": [
    "import pandas as pd\n",
    "\n",
    "file_path = \"../../data/raw/Median_Income_Gender_Age.xlsx\"\n",
    "excel_file = pd.ExcelFile(file_path)\n",
    "\n",
    "sheet_names = excel_file.sheet_names\n",
    "print(\"Sheet names:\", sheet_names)\n",
    "\n",
    "dataframes = {}"
   ]
  },
  {
   "cell_type": "code",
   "execution_count": null,
   "id": "50bbac17-a87b-4f33-a6fc-629ff91d410a",
   "metadata": {
    "scrolled": true
   },
   "outputs": [],
   "source": [
    "for sheet_name in sheet_names:\n",
    "    dataframes[sheet_name] = pd.read_excel(file_path, sheet_name=sheet_name)\n",
    "\n",
    "F65 = dataframes[sheet_names[0]]\n",
    "M65 = dataframes[sheet_names[1]]\n",
    "F50 = dataframes[sheet_names[2]]\n",
    "M50 = dataframes[sheet_names[3]]\n",
    "F25 = dataframes[sheet_names[4]]\n",
    "M25 = dataframes[sheet_names[5]]\n",
    "F16 = dataframes[sheet_names[6]]\n",
    "M16 = dataframes[sheet_names[7]]\n",
    "F65"
   ]
  },
  {
   "cell_type": "code",
   "execution_count": null,
   "id": "174e5107-daf6-4994-b9f2-bfbf7344e715",
   "metadata": {},
   "outputs": [],
   "source": [
    "# Add age and gender column\n",
    "F65[\"age_group\"] = \">65\"\n",
    "F65[\"gender\"] = \"Female\"\n",
    "M65[\"age_group\"] = \">65\"\n",
    "M65[\"gender\"] = \"Male\"\n",
    "F50[\"age_group\"] = \"50-64\"\n",
    "F50[\"gender\"] = \"Female\"\n",
    "M50[\"age_group\"] = \"50-64\"\n",
    "M50[\"gender\"] = \"Male\"\n",
    "F25[\"age_group\"] = \"25-49\"\n",
    "F25[\"gender\"] = \"Female\"\n",
    "M25[\"age_group\"] = \"25-49\"\n",
    "M25[\"gender\"] = \"Male\"\n",
    "F16[\"age_group\"] = \"16-24\"\n",
    "F16[\"gender\"] = \"Female\"\n",
    "M16[\"age_group\"] = \"16-24\"\n",
    "M16[\"gender\"] = \"Male\"\n",
    "F65"
   ]
  },
  {
   "cell_type": "markdown",
   "id": "5b4bdd32-da76-444c-95a5-5f5fd4075521",
   "metadata": {},
   "source": [
    "## Concat to one dataframe"
   ]
  },
  {
   "cell_type": "code",
   "execution_count": null,
   "id": "897a8b62-603c-4dc2-9d3e-4bdf8b50fb10",
   "metadata": {},
   "outputs": [],
   "source": [
    "income = pd.concat([F65, M65, F50, M50, F25, M25, F16, M16], axis = 0)\n",
    "income"
   ]
  },
  {
   "cell_type": "markdown",
   "id": "8761a51e-0d10-410b-836b-74e10bc20a01",
   "metadata": {},
   "source": [
    "## Data Cleaning except null-values"
   ]
  },
  {
   "cell_type": "code",
   "execution_count": null,
   "id": "455eea73-fea7-47c2-b371-4f3e38bbd9f8",
   "metadata": {},
   "outputs": [],
   "source": [
    "from clean_in import data_clean\n",
    "\n",
    "columns_df = ['2015', '2016', '2017', '2018', '2019', '2020', '2021', '2022', '2023', '2024']\n",
    "df = income\n",
    "\n",
    "income = data_clean(df, columns_df)\n",
    "income"
   ]
  },
  {
   "cell_type": "markdown",
   "id": "84df98c2-4787-4da6-9a52-68844f3c434b",
   "metadata": {},
   "source": [
    "## Null-values"
   ]
  },
  {
   "cell_type": "code",
   "execution_count": null,
   "id": "a8de1c69-f9bc-445d-93de-66a6701fd24f",
   "metadata": {},
   "outputs": [],
   "source": [
    "income.isna().sum()"
   ]
  },
  {
   "cell_type": "markdown",
   "id": "0cee6db6-7eb5-4218-aff0-e084d0be1336",
   "metadata": {},
   "source": [
    "## Stack dataframe for MySQL"
   ]
  },
  {
   "cell_type": "code",
   "execution_count": null,
   "id": "c3eab8b8-3d9e-41b3-927a-8d264343ae8c",
   "metadata": {},
   "outputs": [],
   "source": [
    "income_final = income.set_index([\"country\", \"age_group\", \"gender\"])\n",
    "income_final = income_final.stack()\n",
    "income_final = pd.DataFrame(income_final)\n",
    "income_final = income_final.reset_index()\n",
    "income_final.columns = [\"country\", \"age_group\", \"gender\", \"year\", \"median_income_MEUR\"]\n",
    "income_final"
   ]
  },
  {
   "cell_type": "code",
   "execution_count": null,
   "id": "3b388084-9ac2-4f0a-a044-e69e24884876",
   "metadata": {},
   "outputs": [],
   "source": [
    "income_final.dtypes"
   ]
  },
  {
   "cell_type": "code",
   "execution_count": null,
   "id": "07314767-d221-4c2a-bca4-48225a59d202",
   "metadata": {},
   "outputs": [],
   "source": [
    "income_final[\"year\"] = income_final[\"year\"].astype(int)\n",
    "income_final[\"median_income_MEUR\"] = income_final[\"median_income_MEUR\"].astype(float)\n",
    "income_final.dtypes"
   ]
  },
  {
   "cell_type": "code",
   "execution_count": null,
   "id": "1f5562df-c0df-4324-aee4-2bba47cd6ae0",
   "metadata": {},
   "outputs": [],
   "source": [
    "# Create column country ID\n",
    "income_final[\"country_ID\"] = income_final[\"country\"].replace({\"European_Union\":\"EU\", \"Belgium\":\"BE\", \"Bulgaria\":\"BG\", \"Denmark\":\"DK\", \"Germany\":\"DE\", \"Estonia\":\"EE\",\n",
    "                                                        \"Finland\":\"FI\", \"France\":\"FR\", \"Greece\":\"GR\", \"Ireland\":\"IE\", \"Italy\":\"IT\",\n",
    "                                                        \"Croatia\":\"HR\", \"Latvia\":\"LV\", \"Lithuania\":\"LT\", \"Luxembourg\":\"LU\", \"Malta\":\"MT\", \"Netherlands\":\"NL\", \n",
    "                                                        \"Austria\":\"AT\", \"Poland\":\"PL\", \"Portugal\":\"PT\", \"Romania\":\"RO\", \"Sweden\":\"SE\",\n",
    "                                                        \"Slovakia\":\"SK\", \"Slovenia\":\"SI\", \"Spain\":\"ES\", \"Czech_Republic\":\"CZ\", \"Hungary\":\"HU\",\n",
    "                                                        \"Cyprus\":\"CY\"}, regex=True)\n",
    "income_final"
   ]
  },
  {
   "cell_type": "code",
   "execution_count": null,
   "id": "9b320b5c-4c4d-4769-b8a6-8fcb53320a32",
   "metadata": {},
   "outputs": [],
   "source": [
    "# Create column year ID\n",
    "income_final[\"year_ID\"] = (income_final[\"year\"] - 2000)\n",
    "income_final"
   ]
  },
  {
   "cell_type": "code",
   "execution_count": null,
   "id": "cdaa117d-4def-4c22-a9bb-efc5eac73d18",
   "metadata": {},
   "outputs": [],
   "source": [
    "# Create column age ID\n",
    "income_final[\"age_ID\"] = income_final[\"age_group\"].replace({\">65\":\"A65\", \"50-64\":\"A50\", \"25-49\": \"A25\", \"16-24\":\"A16\"}, regex=True)\n",
    "income_final"
   ]
  },
  {
   "cell_type": "code",
   "execution_count": null,
   "id": "21d7a4d6-2cde-4a63-9868-e029dc4febc9",
   "metadata": {},
   "outputs": [],
   "source": [
    "# Create column gender ID\n",
    "income_final[\"gender_ID\"] = income_final[\"gender\"].replace({\"Female\":\"F\", \"Male\": \"M\"}, regex=True)\n",
    "income_final"
   ]
  },
  {
   "cell_type": "code",
   "execution_count": null,
   "id": "03be9de0-c328-406b-af4c-71e8af364f5c",
   "metadata": {},
   "outputs": [],
   "source": [
    "# Create column income ID\n",
    "income_final[\"income_ID\"] = income_final[\"country_ID\"] + income_final[\"year_ID\"].astype(str)\n",
    "income_final[\"income_ID\"] = income_final[\"income_ID\"] + \"_\" + income_final[\"age_ID\"] + \"_\" + income_final[\"gender_ID\"]\n",
    "income_final"
   ]
  },
  {
   "cell_type": "code",
   "execution_count": null,
   "id": "07804796-c8af-41f2-a477-8d2d57fa7fe8",
   "metadata": {},
   "outputs": [],
   "source": [
    "# Create file for entity \"age\"\n",
    "df_age = income_final[\"age_ID\"]\n",
    "df_age = pd.DataFrame(df_age)\n",
    "df_age[\"age_group\"] = income_final[\"age_group\"]\n",
    "df_age = df_age.drop_duplicates()\n",
    "df_age"
   ]
  },
  {
   "cell_type": "code",
   "execution_count": null,
   "id": "0c9d0fcf-558e-438c-a2b2-28f8b18c68bc",
   "metadata": {},
   "outputs": [],
   "source": [
    "#df_age.to_csv(\"../../data/database/age.csv\", index=False, encoding=\"utf-8\", sep=\";\")"
   ]
  },
  {
   "cell_type": "code",
   "execution_count": null,
   "id": "d3cbb7a8-ac54-4c78-b4f3-82763d39c505",
   "metadata": {},
   "outputs": [],
   "source": [
    "# Create file for entity \"gender\"\n",
    "df_gender = income_final[\"gender_ID\"]\n",
    "df_gender = pd.DataFrame(df_gender)\n",
    "df_gender[\"gender\"] = income_final[\"gender\"]\n",
    "df_gender = df_gender.drop_duplicates()\n",
    "df_gender"
   ]
  },
  {
   "cell_type": "code",
   "execution_count": null,
   "id": "d5fa9a86-0ae1-4663-bb61-66bfd1bb624a",
   "metadata": {},
   "outputs": [],
   "source": [
    "#df_gender.to_csv(\"../../data/database/gender.csv\", index=False, encoding=\"utf-8\", sep=\";\")"
   ]
  },
  {
   "cell_type": "code",
   "execution_count": null,
   "id": "995398b4-0c3d-4dd9-a709-c3635e197dc3",
   "metadata": {},
   "outputs": [],
   "source": [
    "# Create file for entity \"income_age_gender\"\n",
    "selected_columns = ['income_ID', 'country_ID', 'year_ID', 'age_ID', 'gender_ID', 'median_income_MEUR']\n",
    "\n",
    "df_income = income_final[selected_columns]\n",
    "df_income"
   ]
  },
  {
   "cell_type": "code",
   "execution_count": null,
   "id": "9b3c4c53-70eb-4a97-832a-27950ffd3699",
   "metadata": {},
   "outputs": [],
   "source": [
    "#df_income.to_csv(\"../../data/database/income_age_gender_new.csv\", index=False, encoding=\"utf-8\", sep=\";\")"
   ]
  },
  {
   "cell_type": "code",
   "execution_count": null,
   "id": "1c58b5e0-1d25-41ad-ac28-ddf28bfb1767",
   "metadata": {},
   "outputs": [],
   "source": []
  }
 ],
 "metadata": {
  "kernelspec": {
   "display_name": "venv",
   "language": "python",
   "name": "venv"
  },
  "language_info": {
   "codemirror_mode": {
    "name": "ipython",
    "version": 3
   },
   "file_extension": ".py",
   "mimetype": "text/x-python",
   "name": "python",
   "nbconvert_exporter": "python",
   "pygments_lexer": "ipython3",
   "version": "3.12.3"
  }
 },
 "nbformat": 4,
 "nbformat_minor": 5
}
