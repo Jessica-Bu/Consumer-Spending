{
 "cells": [
  {
   "cell_type": "code",
   "execution_count": null,
   "id": "db58b9d4-0cae-472a-9b69-6fb41ad4cf9b",
   "metadata": {},
   "outputs": [],
   "source": [
    "import pandas as pd\n",
    "import numpy as np\n",
    "\n",
    "consumption = pd.read_excel(\"../data/raw/Consumption.xlsx\")\n",
    "consumption"
   ]
  },
  {
   "cell_type": "markdown",
   "id": "7b608e1f-db6b-45a5-ad2b-ea04ebce3690",
   "metadata": {},
   "source": [
    "## Data Cleaning except null-values"
   ]
  },
  {
   "cell_type": "code",
   "execution_count": null,
   "id": "3d563349-a18b-4348-a6e2-2151558a6d99",
   "metadata": {},
   "outputs": [],
   "source": [
    "from clean import data_clean\n",
    "\n",
    "columns_df = ['2010', '2011', '2012', '2013', '2014', '2015', '2016', '2017', '2018', '2019', '2020', '2021', '2022', '2023', '2024']\n",
    "df = consumption\n",
    "\n",
    "consumption = data_clean(df, columns_df)\n",
    "consumption"
   ]
  },
  {
   "cell_type": "markdown",
   "id": "0a5494c7-f2d3-4161-b942-52f51248bc75",
   "metadata": {},
   "source": [
    "## Null-values"
   ]
  },
  {
   "cell_type": "code",
   "execution_count": null,
   "id": "9a5c1f52-3a4e-41f2-8f13-bc734c57051e",
   "metadata": {},
   "outputs": [],
   "source": [
    "consumption.isna().sum()"
   ]
  },
  {
   "cell_type": "code",
   "execution_count": null,
   "id": "0bc634e7-e4de-4426-beb3-a66ce734f86f",
   "metadata": {},
   "outputs": [],
   "source": [
    "# drop 2010, 2011, 2024\n",
    "\n",
    "consumption = consumption.drop([\"2010\", \"2011\", \"2024\"], axis=1)\n",
    "consumption.isna().sum()"
   ]
  },
  {
   "cell_type": "code",
   "execution_count": null,
   "id": "e5b0438d-3190-4bd4-94f4-f1f80f00f053",
   "metadata": {},
   "outputs": [],
   "source": [
    "# fill 2023 BG\n",
    "\n",
    "df = consumption.drop([0,2])\n",
    "\n",
    "consumption.at[2, \"2023\"] = consumption.loc[2, \"2022\"] * (1 + ((df[\"2023\"].sum() - df[\"2022\"].sum()) / df[\"2022\"].sum()))\n",
    "consumption"
   ]
  },
  {
   "cell_type": "code",
   "execution_count": null,
   "id": "35201f79-affe-4325-9d87-98ed8f2d8717",
   "metadata": {},
   "outputs": [],
   "source": [
    "# fill values for EU\n",
    "\n",
    "for number in range(1, len(consumption.columns)):\n",
    "    consumption.at[0, consumption.columns[number]] = consumption.iloc[:, number].mean()\n",
    "\n",
    "consumption"
   ]
  },
  {
   "cell_type": "code",
   "execution_count": null,
   "id": "02da76cf-43cc-43f5-b6a5-f8ad536b9cfa",
   "metadata": {},
   "outputs": [],
   "source": [
    "consumption.isna().sum()"
   ]
  },
  {
   "cell_type": "markdown",
   "id": "c6c33e89-7538-4d64-867c-b5399d17e14e",
   "metadata": {},
   "source": [
    "## Data types"
   ]
  },
  {
   "cell_type": "code",
   "execution_count": null,
   "id": "0ba9365e-a2a9-4c55-a11b-b4fef0275ce2",
   "metadata": {},
   "outputs": [],
   "source": [
    "consumption.dtypes"
   ]
  },
  {
   "cell_type": "code",
   "execution_count": null,
   "id": "95a12f3b-26f1-4022-bbd8-db7ede603c93",
   "metadata": {},
   "outputs": [],
   "source": [
    "columns = ['2012', '2013', '2014', '2015', '2016', '2017', '2018', '2019', '2020', '2021', '2022', '2023']\n",
    "for column in columns:\n",
    "    consumption[column] = consumption[column].astype(int)\n",
    "\n",
    "consumption.dtypes"
   ]
  },
  {
   "cell_type": "markdown",
   "id": "596909c8-e492-4c52-8ff6-b5f95ab1de0c",
   "metadata": {},
   "source": [
    "## Stack dataframe for MySQL"
   ]
  },
  {
   "cell_type": "code",
   "execution_count": null,
   "id": "92b51c98-b937-41ff-9a83-89e46b1f052a",
   "metadata": {},
   "outputs": [],
   "source": [
    "consumption_final = consumption.set_index(\"country\")\n",
    "consumption_final = consumption_final.stack()\n",
    "consumption_final = pd.DataFrame(consumption_final)\n",
    "consumption_final = consumption_final.reset_index()\n",
    "consumption_final.columns = [\"country\", \"year\", \"consumptionMEUR\"]\n",
    "consumption_final"
   ]
  },
  {
   "cell_type": "code",
   "execution_count": null,
   "id": "00309a37-348f-4ee3-aca0-a4e534a7af23",
   "metadata": {},
   "outputs": [],
   "source": [
    "#consumption_final.to_csv(\"../data/clean/consumption.csv\", index=False, encoding=\"utf-8\", sep=\",\")"
   ]
  },
  {
   "cell_type": "code",
   "execution_count": null,
   "id": "6de069f4-97ed-404b-af97-a621e29091de",
   "metadata": {},
   "outputs": [],
   "source": []
  }
 ],
 "metadata": {
  "kernelspec": {
   "display_name": "Python [conda env:base] *",
   "language": "python",
   "name": "conda-base-py"
  },
  "language_info": {
   "codemirror_mode": {
    "name": "ipython",
    "version": 3
   },
   "file_extension": ".py",
   "mimetype": "text/x-python",
   "name": "python",
   "nbconvert_exporter": "python",
   "pygments_lexer": "ipython3",
   "version": "3.12.3"
  }
 },
 "nbformat": 4,
 "nbformat_minor": 5
}
