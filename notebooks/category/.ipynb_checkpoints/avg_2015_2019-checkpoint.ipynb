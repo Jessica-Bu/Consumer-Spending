{
 "cells": [
  {
   "cell_type": "code",
   "execution_count": null,
   "id": "308b9e6e-ccb3-4a56-ae86-091a7d6169ac",
   "metadata": {},
   "outputs": [],
   "source": [
    "import pandas as pd\n",
    "df = pd.read_csv(\"../../data/raw/15_19.csv\")\n",
    "df"
   ]
  },
  {
   "cell_type": "code",
   "execution_count": null,
   "id": "247196e5-ac2a-44a2-b9d4-d1896fb1d857",
   "metadata": {},
   "outputs": [],
   "source": [
    "df[\"cons_15_19_ID\"] = df[\"category_ID\"] + df[\"country_ID\"]\n",
    "df"
   ]
  },
  {
   "cell_type": "code",
   "execution_count": null,
   "id": "364f7ae8-d62d-434a-9d0e-8255a434c081",
   "metadata": {},
   "outputs": [],
   "source": [
    "df[\"avg_consumption_MEUR\"] = df[\"avg_consumption_MEUR\"].astype(int)\n",
    "df.dtypes"
   ]
  },
  {
   "cell_type": "code",
   "execution_count": null,
   "id": "23446fbf-3afe-41f8-96ea-a1c3036958fe",
   "metadata": {},
   "outputs": [],
   "source": [
    "# Create file for entity \"avg_ consumption_cat_15_19\"\n",
    "selected_columns = ['cons_15_19_ID', 'country_ID', 'category_ID', 'avg_consumption_MEUR']\n",
    "\n",
    "df = df[selected_columns]\n",
    "df"
   ]
  },
  {
   "cell_type": "code",
   "execution_count": null,
   "id": "dd3020c5-642e-4a01-a6f0-bb5b32a166b0",
   "metadata": {},
   "outputs": [],
   "source": [
    "#df.to_csv(\"../../data/database/avg_ consumption_cat_15_19.csv\", index=False, encoding=\"utf-8\", sep=\";\")"
   ]
  },
  {
   "cell_type": "code",
   "execution_count": null,
   "id": "67287955-fee7-49a9-a518-5a9c9525b2b3",
   "metadata": {},
   "outputs": [],
   "source": []
  }
 ],
 "metadata": {
  "kernelspec": {
   "display_name": "venv",
   "language": "python",
   "name": "venv"
  },
  "language_info": {
   "codemirror_mode": {
    "name": "ipython",
    "version": 3
   },
   "file_extension": ".py",
   "mimetype": "text/x-python",
   "name": "python",
   "nbconvert_exporter": "python",
   "pygments_lexer": "ipython3",
   "version": "3.12.3"
  }
 },
 "nbformat": 4,
 "nbformat_minor": 5
}
