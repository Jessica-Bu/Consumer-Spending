{
 "cells": [
  {
   "cell_type": "markdown",
   "id": "7b07aa40-b699-4f12-91a5-47253af61b3e",
   "metadata": {},
   "source": [
    "## Turn different tabs of an excel into dataframes"
   ]
  },
  {
   "cell_type": "code",
   "execution_count": null,
   "id": "49564ba6-a4dd-4d24-afb5-53373c4c9b46",
   "metadata": {},
   "outputs": [],
   "source": [
    "import pandas as pd\n",
    "\n",
    "file_path = \"../../data/raw/Consumption_Category.xlsx\"\n",
    "excel_file = pd.ExcelFile(file_path)\n",
    "\n",
    "sheet_names = excel_file.sheet_names\n",
    "print(\"Sheet names:\", sheet_names)\n",
    "\n",
    "dataframes = {}\n",
    "\n",
    "for sheet_name in sheet_names:\n",
    "    dataframes[sheet_name] = pd.read_excel(file_path, sheet_name=sheet_name)\n",
    "\n",
    "food = dataframes[sheet_names[0]]\n",
    "bev = dataframes[sheet_names[1]]\n",
    "clothing = dataframes[sheet_names[2]]\n",
    "housing = dataframes[sheet_names[3]]\n",
    "furnishing = dataframes[sheet_names[4]]\n",
    "health = dataframes[sheet_names[5]]\n",
    "transport = dataframes[sheet_names[6]]\n",
    "communications = dataframes[sheet_names[7]]\n",
    "culture = dataframes[sheet_names[8]]\n",
    "education = dataframes[sheet_names[9]]\n",
    "restaurants = dataframes[sheet_names[10]]\n",
    "insur_fin = dataframes[sheet_names[11]]\n",
    "misc_goods = dataframes[sheet_names[12]]"
   ]
  },
  {
   "cell_type": "code",
   "execution_count": null,
   "id": "f227d389-1702-403d-8287-93e51e3df47b",
   "metadata": {},
   "outputs": [],
   "source": [
    "# Add category column for each category\n",
    "food[\"category\"] = \"Food and non-alcoholic beverages\"\n",
    "bev[\"category\"] = \"Alcoholic beverages, tobacco and narcotics\"\n",
    "clothing[\"category\"] = \"Clothing and footwear\"\n",
    "housing[\"category\"] = \"Housing, water, electricity, gas and other fuels\"\n",
    "furnishing[\"category\"] = \"Furnishings, household equipment and routine household maintenance\"\n",
    "health[\"category\"] = \"Health\"\n",
    "transport[\"category\"] = \"Transport\"\n",
    "communications[\"category\"] = \"Communications\"\n",
    "culture[\"category\"] = \"Recreation and culture\"\n",
    "education[\"category\"] = \"Education\"\n",
    "restaurants[\"category\"] = \"Restaurants and hotels\"\n",
    "insur_fin[\"category\"] = \"Insurance and Finance\"\n",
    "misc_goods[\"category\"] = \"Miscellaneous goods and services\"\n",
    "food"
   ]
  },
  {
   "cell_type": "markdown",
   "id": "db0d3a7f-137d-4474-b778-b525ee95fccb",
   "metadata": {},
   "source": [
    "## Concat to one dataframe"
   ]
  },
  {
   "cell_type": "code",
   "execution_count": null,
   "id": "2bdd2854-b76f-490a-a815-1e43eb6fcc17",
   "metadata": {},
   "outputs": [],
   "source": [
    "category = pd.concat([food, bev, clothing, housing, furnishing, health, transport, communications, culture, education, restaurants, insur_fin, misc_goods], axis = 0)\n",
    "category"
   ]
  },
  {
   "cell_type": "markdown",
   "id": "89967309-a910-4dfb-a4e2-b9af9b954702",
   "metadata": {},
   "source": [
    "## Data Cleaning except null-values"
   ]
  },
  {
   "cell_type": "code",
   "execution_count": null,
   "id": "42e87b00-a0d6-4cd0-91e6-a874754710ea",
   "metadata": {},
   "outputs": [],
   "source": [
    "from clean_category import data_clean\n",
    "\n",
    "columns_df = ['2010', '2011', '2012', '2013', '2014', '2015', '2016', '2017', '2018', '2019', '2020', '2021', '2022', '2023', '2024']\n",
    "df = category\n",
    "\n",
    "category = data_clean(df, columns_df)\n",
    "category"
   ]
  },
  {
   "cell_type": "markdown",
   "id": "ff6954b4-92a9-40d1-b65d-951575b6454e",
   "metadata": {},
   "source": [
    "## Null-values"
   ]
  },
  {
   "cell_type": "code",
   "execution_count": null,
   "id": "48e4be24-1ac1-42f2-b29d-c8a696e4caf7",
   "metadata": {},
   "outputs": [],
   "source": [
    "category.isna().sum()"
   ]
  },
  {
   "cell_type": "code",
   "execution_count": null,
   "id": "909cfb56-3640-413e-b77b-6f46472da0c7",
   "metadata": {},
   "outputs": [],
   "source": [
    "category = category.drop(13)\n",
    "category = category.drop(\"2024\", axis = 1)\n",
    "category.tail(20)"
   ]
  },
  {
   "cell_type": "code",
   "execution_count": null,
   "id": "495f29a5-5ced-4035-bf49-a44363f586b8",
   "metadata": {},
   "outputs": [],
   "source": [
    "category.isna().sum()"
   ]
  },
  {
   "cell_type": "code",
   "execution_count": null,
   "id": "38142776-adcc-48c7-9f0d-f98e8dc650d2",
   "metadata": {},
   "outputs": [],
   "source": [
    "# Fill 2023 for PT\n",
    "df = category.drop([18])\n",
    "\n",
    "category.at[18, \"2023\"] = category.loc[18, \"2022\"] * (1 + ((df[\"2023\"].sum() - df[\"2022\"].sum()) / df[\"2022\"].sum()))\n",
    "category.tail(20)"
   ]
  },
  {
   "cell_type": "code",
   "execution_count": null,
   "id": "2523fdc9-2efa-4962-90fe-ecff6540a8fd",
   "metadata": {},
   "outputs": [],
   "source": [
    "category.isna().sum()"
   ]
  },
  {
   "cell_type": "markdown",
   "id": "ef4cb7bf-1ce0-44bb-97ff-72a486286109",
   "metadata": {},
   "source": [
    "## Data types"
   ]
  },
  {
   "cell_type": "code",
   "execution_count": null,
   "id": "d5929965-40a1-487d-aa02-7832481c3cd1",
   "metadata": {},
   "outputs": [],
   "source": [
    "category.dtypes"
   ]
  },
  {
   "cell_type": "markdown",
   "id": "34b101bb-18a4-473e-aad9-cbad4875a0d6",
   "metadata": {},
   "source": [
    "## Stack dataframe for MySQL"
   ]
  },
  {
   "cell_type": "code",
   "execution_count": null,
   "id": "751acd41-acb4-4e9b-a933-ae0f22e01dc6",
   "metadata": {},
   "outputs": [],
   "source": [
    "category_final = category.set_index([\"country\", \"category\"])\n",
    "category_final = category_final.stack()\n",
    "category_final = pd.DataFrame(category_final)\n",
    "category_final = category_final.reset_index()\n",
    "category_final.columns = [\"country\", \"category\", \"year\", \"consumption_MEUR\"]\n",
    "category_final"
   ]
  },
  {
   "cell_type": "code",
   "execution_count": null,
   "id": "0cf0d25d-3555-4be0-88c8-c200958a2baa",
   "metadata": {},
   "outputs": [],
   "source": [
    "# Create column country names\n",
    "category_final[\"country_ID\"] = category_final[\"country\"]\n",
    "category_final[\"country\"] = category_final[\"country\"].replace({\"EU\":\"European_Union\", \"BE\":\"Belgium\", \"BG\":\"Bulgaria\", \"DK\":\"Denmark\", \"DE\":\"Germany\", \"EE\":\"Estonia\",\n",
    "                                                        \"FI\":\"Finland\", \"FR\":\"France\", \"GR\":\"Greece\", \"IE\":\"Ireland\", \"IT\":\"Italy\",\n",
    "                                                        \"HR\":\"Croatia\", \"LV\":\"Latvia\", \"LT\":\"Lithuania\", \"LU\":\"Luxembourg\", \"MT\":\"Malta\", \"NL\":\"Netherlands\", \n",
    "                                                        \"AT\":\"Austria\", \"PL\":\"Poland\", \"PT\":\"Portugal\", \"RO\":\"Romania\", \"SE\":\"Sweden\",\n",
    "                                                        \"SK\":\"Slovakia\", \"SI\":\"Slovenia\", \"ES\":\"Spain\", \"CZ\":\"Czech_Republic\", \"HU\":\"Hungary\",\n",
    "                                                        \"CY\":\"Cyprus\"}, regex=True)\n",
    "category_final"
   ]
  },
  {
   "cell_type": "code",
   "execution_count": null,
   "id": "ae8be083-6525-4881-a4b8-b48c8e12c924",
   "metadata": {},
   "outputs": [],
   "source": [
    "category_final[\"year\"] = category_final[\"year\"].astype(int)\n",
    "category_final.dtypes"
   ]
  },
  {
   "cell_type": "code",
   "execution_count": null,
   "id": "482569b8-df6d-40ed-b503-86b6228816ea",
   "metadata": {},
   "outputs": [],
   "source": [
    "# Create column year ID\n",
    "category_final[\"year_ID\"] = (category_final[\"year\"] - 2000)\n",
    "category_final"
   ]
  },
  {
   "cell_type": "code",
   "execution_count": null,
   "id": "00d5e0e6-2a4d-4b20-a287-f8c05640bd23",
   "metadata": {},
   "outputs": [],
   "source": [
    "# Create column Category ID\n",
    "category_final[\"category_ID\"] = category_final[\"category\"].replace({\"Food and non-alcoholic beverages\":\"C01\", \"Alcoholic beverages, tobacco and narcotics\":\"C02\",\n",
    "                                                                    \"Clothing and footwear\":\"C03\", \"Housing, water, electricity, gas and other fuels\": \"C04\",\n",
    "                                                                    \"Furnishings, household equipment and routine household maintenance\":\"C05\", \"Health\":\"C06\",\n",
    "                                                                    \"Transport\":\"C07\", \"Communications\":\"C08\", \"Recreation and culture\":\"C09\", \"Education\":\"C10\",\n",
    "                                                                    \"Restaurants and hotels\":\"C11\", \"Insurance and Finance\":\"C12\", \"Miscellaneous goods and services\":\"C13\"}, regex=True)\n",
    "category_final"
   ]
  },
  {
   "cell_type": "code",
   "execution_count": null,
   "id": "923c8d4a-ff1e-48d4-8da7-33f22efc0e73",
   "metadata": {},
   "outputs": [],
   "source": [
    "# Create column indicator ID\n",
    "category_final[\"consumption_ID\"] = category_final[\"country_ID\"] + category_final[\"year_ID\"].astype(str)\n",
    "category_final[\"consumption_ID\"] = category_final[\"consumption_ID\"] + \"_\" + category_final[\"category_ID\"]\n",
    "category_final"
   ]
  },
  {
   "cell_type": "code",
   "execution_count": null,
   "id": "eb4f12d4-1418-4c70-95ce-52df3abbd9c8",
   "metadata": {},
   "outputs": [],
   "source": [
    "# Create file for entity \"category\"\n",
    "df_cat = category_final[\"category_ID\"]\n",
    "df_cat = pd.DataFrame(df_cat)\n",
    "df_cat[\"category\"] = category_final[\"category\"]\n",
    "df_cat = df_cat.drop_duplicates()\n",
    "df_cat"
   ]
  },
  {
   "cell_type": "code",
   "execution_count": null,
   "id": "b7c55fee-9ce6-473e-93d6-df5d578b7c1a",
   "metadata": {},
   "outputs": [],
   "source": [
    "#df_cat.to_csv(\"../../data/database/category.csv\", index=False, encoding=\"utf-8\", sep=\";\")"
   ]
  },
  {
   "cell_type": "code",
   "execution_count": null,
   "id": "6bf04438-5251-4dd8-9a23-13672cb248a8",
   "metadata": {},
   "outputs": [],
   "source": [
    "# Create file for entity \"consumption_cat\"\n",
    "selected_columns = ['consumption_ID', 'country_ID', 'year_ID', 'category_ID', 'consumption_MEUR']\n",
    "\n",
    "df_consumption = category_final[selected_columns]\n",
    "df_consumption"
   ]
  },
  {
   "cell_type": "code",
   "execution_count": null,
   "id": "aad6913f-0118-4811-845a-2ff86aba828f",
   "metadata": {},
   "outputs": [],
   "source": [
    "#df_consumption.to_csv(\"../../data/database/consumption_cat_new.csv\", index=False, encoding=\"utf-8\", sep=\";\")"
   ]
  },
  {
   "cell_type": "code",
   "execution_count": null,
   "id": "2cb7b276-43c6-4324-8ff9-6c33004b0d87",
   "metadata": {},
   "outputs": [],
   "source": []
  }
 ],
 "metadata": {
  "kernelspec": {
   "display_name": "venv",
   "language": "python",
   "name": "venv"
  },
  "language_info": {
   "codemirror_mode": {
    "name": "ipython",
    "version": 3
   },
   "file_extension": ".py",
   "mimetype": "text/x-python",
   "name": "python",
   "nbconvert_exporter": "python",
   "pygments_lexer": "ipython3",
   "version": "3.12.3"
  }
 },
 "nbformat": 4,
 "nbformat_minor": 5
}
