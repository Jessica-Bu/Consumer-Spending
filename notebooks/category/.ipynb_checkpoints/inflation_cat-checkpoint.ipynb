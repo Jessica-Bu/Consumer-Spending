{
 "cells": [
  {
   "cell_type": "markdown",
   "id": "6a5ead1c-6849-4862-a490-2e7e1a9f1622",
   "metadata": {},
   "source": [
    "## Turn different tabs of an excel into dataframes"
   ]
  },
  {
   "cell_type": "code",
   "execution_count": null,
   "id": "820ccfdb-7ce1-445c-88d6-b89b03aa9bf7",
   "metadata": {},
   "outputs": [],
   "source": [
    "import pandas as pd\n",
    "\n",
    "file_path = \"../../data/raw/inflation_category.xlsx\"\n",
    "excel_file = pd.ExcelFile(file_path)\n",
    "\n",
    "sheet_names = excel_file.sheet_names\n",
    "print(\"Sheet names:\", sheet_names)"
   ]
  },
  {
   "cell_type": "code",
   "execution_count": null,
   "id": "1f76edc4-d53a-44e3-a39f-a15721969282",
   "metadata": {},
   "outputs": [],
   "source": [
    "sheet_names = ['Blatt 2', 'Blatt 3', 'Blatt 4', 'Blatt 5', 'Blatt 6', 'Blatt 7', 'Blatt 8', 'Blatt 9', 'Blatt 10', 'Blatt 11', 'Blatt 12', 'Blatt 13']\n",
    "\n",
    "dataframes = {}\n",
    "\n",
    "for sheet_name in sheet_names:\n",
    "    dataframes[sheet_name] = pd.read_excel(file_path, sheet_name=sheet_name)\n",
    "\n",
    "food = dataframes[sheet_names[0]]\n",
    "bev = dataframes[sheet_names[1]]\n",
    "clothing = dataframes[sheet_names[2]]\n",
    "housing = dataframes[sheet_names[3]]\n",
    "furnishing = dataframes[sheet_names[4]]\n",
    "health = dataframes[sheet_names[5]]\n",
    "transport = dataframes[sheet_names[6]]\n",
    "communications = dataframes[sheet_names[7]]\n",
    "culture = dataframes[sheet_names[8]]\n",
    "education = dataframes[sheet_names[9]]\n",
    "restaurants = dataframes[sheet_names[10]]\n",
    "misc_goods = dataframes[sheet_names[11]]"
   ]
  },
  {
   "cell_type": "code",
   "execution_count": null,
   "id": "d9f95f2b-06b2-4328-aa78-d16d2fadd005",
   "metadata": {},
   "outputs": [],
   "source": [
    "# Add category column for each category\n",
    "food[\"category\"] = \"Food and non-alcoholic beverages\"\n",
    "bev[\"category\"] = \"Alcoholic beverages, tobacco and narcotics\"\n",
    "clothing[\"category\"] = \"Clothing and footwear\"\n",
    "housing[\"category\"] = \"Housing, water, electricity, gas and other fuels\"\n",
    "furnishing[\"category\"] = \"Furnishings, household equipment and routine household maintenance\"\n",
    "health[\"category\"] = \"Health\"\n",
    "transport[\"category\"] = \"Transport\"\n",
    "communications[\"category\"] = \"Communications\"\n",
    "culture[\"category\"] = \"Recreation and culture\"\n",
    "education[\"category\"] = \"Education\"\n",
    "restaurants[\"category\"] = \"Restaurants and hotels\"\n",
    "misc_goods[\"category\"] = \"Miscellaneous goods and services\"\n",
    "food"
   ]
  },
  {
   "cell_type": "markdown",
   "id": "09e4c332-f9b6-4e2e-b3d2-28645530f379",
   "metadata": {},
   "source": [
    "## Concat to one dataframe"
   ]
  },
  {
   "cell_type": "code",
   "execution_count": null,
   "id": "db01a3c0-507f-4175-a398-19dd4f0afb73",
   "metadata": {},
   "outputs": [],
   "source": [
    "category = pd.concat([food, bev, clothing, housing, furnishing, health, transport, communications, culture, education, restaurants, misc_goods], axis = 0)\n",
    "category"
   ]
  },
  {
   "cell_type": "markdown",
   "id": "5b22d1b6-90cc-4b0c-9c04-d3c6641c23d3",
   "metadata": {},
   "source": [
    "## Data Cleaning except null-values"
   ]
  },
  {
   "cell_type": "code",
   "execution_count": null,
   "id": "15bf0761-8cc1-4bda-bde9-ef7ef1f6e947",
   "metadata": {},
   "outputs": [],
   "source": [
    "from clean_category_inf import data_clean\n",
    "\n",
    "columns_df = ['2010', '2011', '2012', '2013', '2014', '2015', '2016', '2017', '2018', '2019', '2020', '2021', '2022', '2023', '2024']\n",
    "df = category\n",
    "\n",
    "category = data_clean(df, columns_df)\n",
    "category"
   ]
  },
  {
   "cell_type": "markdown",
   "id": "3477c316-cda5-48bb-9eb9-e75f78330c41",
   "metadata": {},
   "source": [
    "## Null-values"
   ]
  },
  {
   "cell_type": "code",
   "execution_count": null,
   "id": "ebc3a956-2267-42e1-8cb7-4489cb1d8ec7",
   "metadata": {},
   "outputs": [],
   "source": [
    "category.isna().sum()"
   ]
  },
  {
   "cell_type": "markdown",
   "id": "cee35f86-e6cb-4efb-89f7-f41d841e244f",
   "metadata": {},
   "source": [
    "## Data types"
   ]
  },
  {
   "cell_type": "code",
   "execution_count": null,
   "id": "357c6ca4-4041-4b30-b45a-410452159f4e",
   "metadata": {},
   "outputs": [],
   "source": [
    "category.dtypes"
   ]
  },
  {
   "cell_type": "markdown",
   "id": "70b4bac9-37ad-4c2c-99f3-7f958f6d51e0",
   "metadata": {},
   "source": [
    "## Stack dataframe for MySQL"
   ]
  },
  {
   "cell_type": "code",
   "execution_count": null,
   "id": "42c61bf5-6fc6-49d4-ab2d-a9fea2f18f80",
   "metadata": {},
   "outputs": [],
   "source": [
    "category_final = category.set_index([\"country\", \"category\"])\n",
    "category_final = category_final.stack()\n",
    "category_final = pd.DataFrame(category_final)\n",
    "category_final = category_final.reset_index()\n",
    "category_final.columns = [\"country\", \"category\", \"year\", \"inflation\"]\n",
    "category_final"
   ]
  },
  {
   "cell_type": "code",
   "execution_count": null,
   "id": "072166a5-efe1-4fea-a335-67e3cd6417b3",
   "metadata": {},
   "outputs": [],
   "source": [
    "category_final[\"inflation_%\"] = category_final[\"inflation\"] / 100\n",
    "category_final"
   ]
  },
  {
   "cell_type": "code",
   "execution_count": null,
   "id": "141938d2-bce9-4026-a207-87e143593c51",
   "metadata": {},
   "outputs": [],
   "source": [
    "# Create column country names\n",
    "category_final[\"country_ID\"] = category_final[\"country\"]\n",
    "category_final[\"country\"] = category_final[\"country\"].replace({\"EU\":\"European_Union\", \"BE\":\"Belgium\", \"BG\":\"Bulgaria\", \"DK\":\"Denmark\", \"DE\":\"Germany\", \"EE\":\"Estonia\",\n",
    "                                                        \"FI\":\"Finland\", \"FR\":\"France\", \"GR\":\"Greece\", \"IE\":\"Ireland\", \"IT\":\"Italy\",\n",
    "                                                        \"HR\":\"Croatia\", \"LV\":\"Latvia\", \"LT\":\"Lithuania\", \"LU\":\"Luxembourg\", \"MT\":\"Malta\", \"NL\":\"Netherlands\", \n",
    "                                                        \"AT\":\"Austria\", \"PL\":\"Poland\", \"PT\":\"Portugal\", \"RO\":\"Romania\", \"SE\":\"Sweden\",\n",
    "                                                        \"SK\":\"Slovakia\", \"SI\":\"Slovenia\", \"ES\":\"Spain\", \"CZ\":\"Czech_Republic\", \"HU\":\"Hungary\",\n",
    "                                                        \"CY\":\"Cyprus\"}, regex=True)\n",
    "category_final"
   ]
  },
  {
   "cell_type": "code",
   "execution_count": null,
   "id": "78735c93-0add-475a-85ef-71b23129d217",
   "metadata": {},
   "outputs": [],
   "source": [
    "category_final[\"year\"] = category_final[\"year\"].astype(int)\n",
    "category_final.dtypes"
   ]
  },
  {
   "cell_type": "code",
   "execution_count": null,
   "id": "19efc8f4-12d3-493f-8561-2a42eb0d468b",
   "metadata": {},
   "outputs": [],
   "source": [
    "# Create column year ID\n",
    "category_final[\"year_ID\"] = (category_final[\"year\"] - 2000)\n",
    "category_final"
   ]
  },
  {
   "cell_type": "code",
   "execution_count": null,
   "id": "92a244a6-6720-40c6-b8e4-5652c5b1cbcc",
   "metadata": {},
   "outputs": [],
   "source": [
    "# Create column Category ID\n",
    "category_final[\"category_ID\"] = category_final[\"category\"].replace({\"Food and non-alcoholic beverages\":\"C01\", \"Alcoholic beverages, tobacco and narcotics\":\"C02\",\n",
    "                                                                    \"Clothing and footwear\":\"C03\", \"Housing, water, electricity, gas and other fuels\": \"C04\",\n",
    "                                                                    \"Furnishings, household equipment and routine household maintenance\":\"C05\", \"Health\":\"C06\",\n",
    "                                                                    \"Transport\":\"C07\", \"Communications\":\"C08\", \"Recreation and culture\":\"C09\", \"Education\":\"C10\",\n",
    "                                                                    \"Restaurants and hotels\":\"C11\", \"Insurance and Finance\":\"C12\", \"Miscellaneous goods and services\":\"C13\"}, regex=True)\n",
    "category_final"
   ]
  },
  {
   "cell_type": "code",
   "execution_count": null,
   "id": "ada1f9ab-a006-4c23-a558-10c268e5b7a5",
   "metadata": {},
   "outputs": [],
   "source": [
    "# Create column inflation_cat_ID\n",
    "category_final[\"inflation_cat_ID\"] = category_final[\"country_ID\"] + category_final[\"year_ID\"].astype(str)\n",
    "category_final[\"inflation_cat_ID\"] = category_final[\"inflation_cat_ID\"] + \"_\" + category_final[\"category_ID\"]\n",
    "category_final"
   ]
  },
  {
   "cell_type": "code",
   "execution_count": null,
   "id": "e2767b00-aae8-49f8-b6af-2b11119fd6a5",
   "metadata": {},
   "outputs": [],
   "source": [
    "# Create file for entity \"inflation_cat\"\n",
    "selected_columns = ['inflation_cat_ID', 'country_ID', 'year_ID', 'category_ID', 'inflation_%']\n",
    "\n",
    "df_inf_cat = category_final[selected_columns]\n",
    "df_inf_cat"
   ]
  },
  {
   "cell_type": "code",
   "execution_count": null,
   "id": "20b7a20f-a62e-4fe6-be7a-eed48d25dbe8",
   "metadata": {},
   "outputs": [],
   "source": [
    "#df_inf_cat.to_csv(\"../../data/database/inflation_cat.csv\", index=False, encoding=\"utf-8\", sep=\";\")"
   ]
  },
  {
   "cell_type": "markdown",
   "id": "59605db6-607a-4e4e-b21c-8a984f15e84e",
   "metadata": {},
   "source": [
    "## Create file for cumulative inflation"
   ]
  },
  {
   "cell_type": "code",
   "execution_count": null,
   "id": "23672888-068d-42f6-9ce8-847c321ba5bf",
   "metadata": {},
   "outputs": [],
   "source": [
    "df_inf_cat = df_inf_cat[(df_inf_cat['year_ID'] >= 20) & (df_inf_cat['year_ID'] <= 23)]\n",
    "df_inf_cat"
   ]
  },
  {
   "cell_type": "code",
   "execution_count": null,
   "id": "abead752-c15a-490c-ae75-5c1614fc2c1c",
   "metadata": {},
   "outputs": [],
   "source": [
    "import numpy as np\n",
    "grouped = df_inf_cat.groupby(['country_ID', 'category_ID'])\n",
    "cumulative_inflation = grouped['inflation_%'].apply(lambda x: (np.prod(1 + x))-1)\n",
    "cumulative_inflation_df = cumulative_inflation.reset_index()\n",
    "cumulative_inflation_df.columns = ['country_ID', 'category_ID', 'cumulative_inflation_20_23']\n",
    "cumulative_inflation_df"
   ]
  },
  {
   "cell_type": "code",
   "execution_count": null,
   "id": "83af5def-129d-4aaa-8b5c-d89c12cbd66c",
   "metadata": {},
   "outputs": [],
   "source": [
    "#cumulative_inflation_df.to_csv(\"../../data/database/inflation_cat_cum.csv\", index=False, encoding=\"utf-8\", sep=\";\")"
   ]
  },
  {
   "cell_type": "code",
   "execution_count": null,
   "id": "7514f86e-64d1-4e78-8192-d5aa78c3328b",
   "metadata": {},
   "outputs": [],
   "source": []
  }
 ],
 "metadata": {
  "kernelspec": {
   "display_name": "venv",
   "language": "python",
   "name": "venv"
  },
  "language_info": {
   "codemirror_mode": {
    "name": "ipython",
    "version": 3
   },
   "file_extension": ".py",
   "mimetype": "text/x-python",
   "name": "python",
   "nbconvert_exporter": "python",
   "pygments_lexer": "ipython3",
   "version": "3.12.3"
  }
 },
 "nbformat": 4,
 "nbformat_minor": 5
}
